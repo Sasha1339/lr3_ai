{
 "cells": [
  {
   "cell_type": "code",
   "execution_count": null,
   "id": "initial_id",
   "metadata": {
    "collapsed": true
   },
   "outputs": [],
   "source": [
    "with np.load('mnist.npz', allow_pickle=True) as f:\n",
    "    X_train, y_train = f['x_train'], f['y_train']\n",
    "    X_test, y_test = f['x_test'], f['y_test']\n",
    "sample = 1\n",
    "image = X_train[sample]\n",
    "fig = plt.figure\n",
    "plt.imshow(image, cmap='gray')\n",
    "plt.show()\n",
    "X_train = X_train.reshape(X_train.shape[0], 28 * 28)\n",
    "X_test = X_test.reshape(X_test.shape[0], 28 * 28)\n",
    "\n"
   ]
  },
  {
   "metadata": {},
   "cell_type": "code",
   "outputs": [],
   "execution_count": null,
   "source": [
    "n_estimators_range = range(1, 50, 1)\n",
    "f_train_cb = []\n",
    "f_test_cb = []\n",
    "for n in n_estimators_range:\n",
    "    cat_boost = CatBoostClassifier(n_estimators=n)\n",
    "    cat_boost.fit(X_train, y_train)\n",
    "    Y_predict_train = cat_boost.predict(X_train)\n",
    "    Y_predict_test = cat_boost.predict(X_test)\n",
    "    f_train_cb.append(f1_score(y_train, Y_predict_train, average='micro'))\n",
    "    f_test_cb.append(f1_score(y_test, Y_predict_test, average='micro'))\n",
    "\n",
    "plt.plot(n_estimators_range, f_train_cb)\n",
    "plt.plot(n_estimators_range, f_test_cb)\n",
    "plt.title(\"F мера для градиентного бустинга на основе MNIST\")\n",
    "plt.xlabel('n_estimators')\n",
    "plt.ylabel('F-мера')\n",
    "plt.legend(['f_train', 'f_test'])\n",
    "plt.show()\n",
    "\n",
    "\n",
    "def map(data):\n",
    "    output = []\n",
    "    for i in range(len(data)):\n",
    "        if data[i][0] > data[i][1]:\n",
    "            output.append(0)\n",
    "        else:\n",
    "            output.append(1)\n",
    "    return output\n",
    "\n",
    "\n",
    "model = CatBoostClassifier(n_estimators=5)\n",
    "model.fit(X_train, y_train)\n",
    "\n",
    "y_pred = model.predict(X_test)\n",
    "\n",
    "y_pred = to_categorical(y_pred.reshape(-1), 10)\n",
    "y_test_check = to_categorical(y_test, 10)\n",
    "\n",
    "y_test_labels = np.argmax(y_test_check, axis=1)\n",
    "y_pred_tr = np.argmax(y_pred, axis=1)\n",
    "\n",
    "confusion_matrix_ = confusion_matrix(y_test_check, y_pred_tr)\n",
    "cm = pd.DataFrame(data=confusion_matrix_, columns=['0', '1', '2', '3', '4',\n",
    "                                                   '5', '6', '7', '8', '9'],\n",
    "                  index=['0', '1', '2', '3', '4', '5', '6', '7', '8', '9'])\n",
    "ax = sns.heatmap(cm, annot=True, fmt=\"d\")\n"
   ],
   "id": "dff5fd83e8919fff"
  },
  {
   "metadata": {},
   "cell_type": "code",
   "outputs": [],
   "execution_count": null,
   "source": [
    "y_train = to_categorical(y_train, 10)\n",
    "y_test = to_categorical(y_test, 10)\n",
    "NB_CLASSES = y_train.shape[1]\n",
    "INPUT_SHAPE = (X_train.shape[1],)\n",
    "model = Sequential()\n",
    "model.add(Input(shape=INPUT_SHAPE))\n",
    "model.add(Dense(32))\n",
    "model.add(Activation('relu'))\n",
    "model.add(Dropout(0.3))\n",
    "model.add(Dense(16))\n",
    "model.add(Activation('relu'))\n",
    "model.add(Dense(8))\n",
    "model.add(Activation('relu'))\n",
    "model.add(Dense(NB_CLASSES))\n",
    "model.add(Activation('softmax'))\n",
    "model.summary()\n",
    "\n",
    "model.compile(loss='binary_crossentropy',\n",
    "              optimizer='adam',\n",
    "              metrics=['Precision', 'Recall'])\n"
   ],
   "id": "96f8c02a00c90a65"
  },
  {
   "metadata": {},
   "cell_type": "code",
   "outputs": [],
   "execution_count": null,
   "source": [
    "EPOCHS = 30\n",
    "history = model.fit(X_train, y_train, batch_size=32, epochs=30, verbose=\n",
    "1, validation_data=(X_test, y_test))\n",
    "f1_score_list_train = []\n",
    "f1_score_list_test = []\n",
    "for i in range(EPOCHS):\n",
    "    f1_score_list_train.append(2 * history.history['precision'][i] *\n",
    "                               history.history['recall'][i] / (history.history['precision'][i] +\n",
    "                                                               history.history['recall'][i]))\n",
    "    f1_score_list_test.append(2 * history.history['val_precision'][i] *\n",
    "                              history.history['val_recall'][i] / (history.history['val_precision'][i] +\n",
    "                                                                  history.history['val_recall'][i]))"
   ],
   "id": "7b726927a636dafd"
  }
 ],
 "metadata": {
  "kernelspec": {
   "display_name": "Python 3",
   "language": "python",
   "name": "python3"
  },
  "language_info": {
   "codemirror_mode": {
    "name": "ipython",
    "version": 2
   },
   "file_extension": ".py",
   "mimetype": "text/x-python",
   "name": "python",
   "nbconvert_exporter": "python",
   "pygments_lexer": "ipython2",
   "version": "2.7.6"
  }
 },
 "nbformat": 4,
 "nbformat_minor": 5
}
